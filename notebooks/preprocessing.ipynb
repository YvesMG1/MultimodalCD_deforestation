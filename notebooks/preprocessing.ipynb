{
 "cells": [
  {
   "cell_type": "code",
   "execution_count": null,
   "metadata": {},
   "outputs": [],
   "source": [
    "### Autoreload all modules ###\n",
    "%load_ext autoreload\n",
    "%autoreload 2\n",
    "\n",
    "### import libraries ###\n",
    "import os\n",
    "from os.path import join\n",
    "import sys\n",
    "from pathlib import Path\n",
    "import imageio.v2 as imageio\n",
    "import rasterio as rs\n",
    "import geopandas as gp\n",
    "import numpy as np\n",
    "import pandas as pd\n",
    "import matplotlib.pyplot as plt\n",
    "\n",
    "\n",
    "### Set base path ###\n",
    "base_path = Path(os.getcwd())\n",
    "while not (base_path / '.git').exists():\n",
    "    base_path = base_path.parent\n",
    "print('Base path: ', base_path)\n",
    "\n",
    "\n",
    "### Import custom modules ###\n",
    "sys.path.append(str(base_path / 'src/data/preprocessing'))\n",
    "sys.path.append(str(base_path / 'src/visualization'))\n",
    "\n",
    "from preprocess_ukr import preprocess\n",
    "from filtering import filter_poly, create_diff_masks\n",
    "from preprocessing_plots import plot_images, plot_diff_mask\n",
    "from utils import get_files"
   ]
  },
  {
   "cell_type": "markdown",
   "metadata": {},
   "source": [
    "## Preprocessing"
   ]
  },
  {
   "cell_type": "markdown",
   "metadata": {},
   "source": [
    "- divides sentinel tiff files into patches\n",
    "- creates masks from polygons and divides them into patches\n",
    "- divides cloud masks into patches"
   ]
  },
  {
   "cell_type": "code",
   "execution_count": null,
   "metadata": {},
   "outputs": [],
   "source": [
    "base_path_data =  str(base_path) + '/data/UKR/raw/'\n",
    "\n",
    "s2_path = base_path_data + 'full/sentinel2'\n",
    "s1_path = base_path_data + 'full/sentinel1'\n",
    "save_path = base_path_data + 'pieces'\n",
    "cloud_path = base_path_data + 'full/clouds'\n",
    "polygon_files = ['36UYA_36UXA_baseline.geojson', '36UXA_time-dependent.geojson', '36UYA_Spring_time-dependent.geojson', '36UYA_Summer_time-dependent.geojson']\n",
    "polys_path = [base_path_data + 'full/polygons/' + poly for poly in polygon_files]\n",
    "filter_by_date = True\n",
    "width = 224\n",
    "height = 224\n",
    "buffer = False\n",
    "\n",
    "\n",
    "preprocess(\n",
    "    s2_path,\n",
    "    s1_path,\n",
    "    save_path, \n",
    "    cloud_path, \n",
    "    polys_path,\n",
    "    width, \n",
    "    height, \n",
    "    filter_by_date, \n",
    "    buffer\n",
    ")"
   ]
  },
  {
   "cell_type": "markdown",
   "metadata": {},
   "source": [
    "## Filtering"
   ]
  },
  {
   "cell_type": "markdown",
   "metadata": {},
   "source": [
    "Filter the pieces according to deforestation change and cloud cover."
   ]
  },
  {
   "cell_type": "code",
   "execution_count": null,
   "metadata": {},
   "outputs": [],
   "source": [
    "pieces_path = '/scratch/yves/Thesis/Yves-MSc-Thesis/data/UKR/raw/pieces'\n",
    "save_path = '/scratch/yves/Thesis/Yves-MSc-Thesis/data/UKR/filtered'\n",
    "\n",
    "filter_poly(pieces_path, save_path, num_deforestation_threshold = 1, cloud_threshold = 0.3)"
   ]
  },
  {
   "cell_type": "markdown",
   "metadata": {},
   "source": [
    "Filtering post-analysis"
   ]
  },
  {
   "cell_type": "code",
   "execution_count": null,
   "metadata": {},
   "outputs": [],
   "source": [
    "images_path =  base_path + 'data/UKR/filtered/s2'\n",
    "images = get_files(images_path)\n",
    "masks = get_files(images_path.replace('s2', 'masks'))\n",
    "\n",
    "\n",
    "for i in range(0, 10):\n",
    "\n",
    "    image_path = join(images_path, images[i])\n",
    "    mask_path = join(images_path.replace('s2', 'masks'), masks[i])\n",
    "    print(image_path)\n",
    "\n",
    "    plot_images(image_path, use_mask = False, mask_path = mask_path, use_rgb = True, additional_bands = [4], normalization = 'percentile_stretch', percentile = [1, 99],\n",
    "                use_s1 = True, titles = ['Sentinel-2 RGB', 'Sentinel-2 NIR', 'Sentinel-1 VV'])"
   ]
  },
  {
   "cell_type": "markdown",
   "metadata": {},
   "source": [
    "## Difference masking"
   ]
  },
  {
   "cell_type": "markdown",
   "metadata": {},
   "source": [
    "Creates difference masks from the masks"
   ]
  },
  {
   "cell_type": "code",
   "execution_count": null,
   "metadata": {},
   "outputs": [],
   "source": [
    "image_dir = str(base_path) + '/data/UKR/filtered/s2'\n",
    "mask_dir = str(base_path) + '/data/UKR/filtered/masks'\n",
    "save_path = str(base_path) + '/data/UKR/filtered/diff_masks'\n",
    "\n",
    "create_diff_masks(image_dir, mask_dir, save_path, THRESHOLD_DEF_CHANGE = 0)"
   ]
  },
  {
   "cell_type": "markdown",
   "metadata": {},
   "source": [
    "Difference masking post-analysis"
   ]
  },
  {
   "cell_type": "code",
   "execution_count": null,
   "metadata": {},
   "outputs": [],
   "source": [
    "images_path =  str(base_path) + '/data/UKR/filtered/diff_masks'\n",
    "diff_mask_files = get_files(images_path)\n",
    "\n",
    "for diff_mask in diff_mask_files[0:2]:\n",
    "    diff_mask_path = join(images_path, diff_mask)\n",
    "\n",
    "    plot_diff_mask(diff_mask_path, band = 'rgb', s1 = False, s1_band = 1, normalization = 'percentile_stretch', percentile = [2, 98])"
   ]
  }
 ],
 "metadata": {
  "kernelspec": {
   "display_name": "thesis",
   "language": "python",
   "name": "python3"
  },
  "language_info": {
   "codemirror_mode": {
    "name": "ipython",
    "version": 3
   },
   "file_extension": ".py",
   "mimetype": "text/x-python",
   "name": "python",
   "nbconvert_exporter": "python",
   "pygments_lexer": "ipython3",
   "version": "3.8.18"
  }
 },
 "nbformat": 4,
 "nbformat_minor": 2
}
