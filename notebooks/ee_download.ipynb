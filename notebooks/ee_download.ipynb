{
 "cells": [
  {
   "cell_type": "code",
   "execution_count": null,
   "metadata": {},
   "outputs": [],
   "source": [
    "# package imports\n",
    "import ee\n",
    "import numpy as np\n",
    "import geemap\n",
    "import geopandas as gp\n",
    "import pandas as pd\n",
    "import matplotlib.pyplot as plt\n",
    "import rasterio\n",
    "import os\n",
    "from pyproj import Transformer, Proj, transform\n",
    "\n",
    "# Authenticate and initialize Earth Engine\n",
    "ee.Authenticate()\n",
    "ee.Initialize()"
   ]
  },
  {
   "cell_type": "markdown",
   "metadata": {},
   "source": [
    "## S1 download"
   ]
  },
  {
   "cell_type": "markdown",
   "metadata": {},
   "source": [
    "S2 to S1 mapping"
   ]
  },
  {
   "cell_type": "code",
   "execution_count": 2,
   "metadata": {},
   "outputs": [
    {
     "data": {
      "text/html": [
       "\n",
       "            <style>\n",
       "                .geemap-dark {\n",
       "                    --jp-widgets-color: white;\n",
       "                    --jp-widgets-label-color: white;\n",
       "                    --jp-ui-font-color1: white;\n",
       "                    --jp-layout-color2: #454545;\n",
       "                    background-color: #383838;\n",
       "                }\n",
       "\n",
       "                .geemap-dark .jupyter-button {\n",
       "                    --jp-layout-color3: #383838;\n",
       "                }\n",
       "\n",
       "                .geemap-colab {\n",
       "                    background-color: var(--colab-primary-surface-color, white);\n",
       "                }\n",
       "\n",
       "                .geemap-colab .jupyter-button {\n",
       "                    --jp-layout-color3: var(--colab-primary-surface-color, white);\n",
       "                }\n",
       "            </style>\n",
       "            "
      ],
      "text/plain": [
       "<IPython.core.display.HTML object>"
      ]
     },
     "metadata": {},
     "output_type": "display_data"
    },
    {
     "name": "stdout",
     "output_type": "stream",
     "text": [
      "Number of Sentinel-1 images:  4\n"
     ]
    },
    {
     "data": {
      "application/vnd.jupyter.widget-view+json": {
       "model_id": "e20d04a248ed4f4db25cf53d970abb31",
       "version_major": 2,
       "version_minor": 0
      },
      "text/plain": [
       "Map(center=[50.00407237826777, 36.55656098911121], controls=(WidgetControl(options=['position', 'transparent_b…"
      ]
     },
     "execution_count": 2,
     "metadata": {},
     "output_type": "execute_result"
    }
   ],
   "source": [
    "start_date = '2019-07-01'\n",
    "end_date = '2019-07-10'\n",
    "tile_id = '36UYA'\n",
    "\n",
    "# Load the Sentinel-2 image collection and filter it\n",
    "sentinel2 = ee.ImageCollection('COPERNICUS/S2_HARMONIZED') \\\n",
    "    .filterDate(start_date, end_date) \\\n",
    "    .filter(ee.Filter.eq('MGRS_TILE', tile_id))\n",
    "\n",
    "# Get the first Sentinel-2 image and its footprint\n",
    "image_list = sentinel2.toList(sentinel2.size())\n",
    "first_s2_image = ee.Image(image_list.get(0))\n",
    "footprint_polygon = first_s2_image.geometry()\n",
    "footprint_polygon_buffered = footprint_polygon.buffer(1000)\n",
    "\n",
    "start_date_s1 = '2019-07-01'\n",
    "\n",
    "# Load the Sentinel-1 image collection for the same range\n",
    "sentinel1 = ee.ImageCollection('COPERNICUS/S1_GRD') \\\n",
    "    .filter(ee.Filter.eq(\"instrumentMode\", \"IW\")) \\\n",
    "    .filterDate(start_date_s1, end_date) \\\n",
    "    .filterBounds(footprint_polygon_buffered)  \\\n",
    "    .filter(ee.Filter.listContains('transmitterReceiverPolarisation', 'VV')) \\\n",
    "    .filter(ee.Filter.listContains('transmitterReceiverPolarisation', 'VH')) \\\n",
    "    .filter(ee.Filter.eq(\"orbitProperties_pass\", \"DESCENDING\")) \\\n",
    "    .select(['VV', 'VH']) \\\n",
    "    .sort('system:time_start', False)  # Sort images in descending order by date\n",
    "\n",
    "# Mosaic the images to create one image covering the entire area\n",
    "print(\"Number of Sentinel-1 images: \", sentinel1.size().getInfo())\n",
    "\n",
    "# Clip the mosaic to the exact Sentinel-2 footprint\n",
    "s1_mosaic = sentinel1.mosaic().clip(footprint_polygon)\n",
    "\n",
    "# Example to process and visualize\n",
    "Map = geemap.Map()\n",
    "Map.addLayer(first_s2_image, {'bands': ['B4', 'B3', 'B2'], 'min': 0, 'max': 3000}, 'Sentinel-2 Image')\n",
    "Map.addLayer(s1_mosaic, {'bands': ['VH'], 'min': -50, 'max': 0}, 'Mosaic Sentinel-1 Image')\n",
    "Map.centerObject(footprint_polygon, zoom=10)\n",
    "Map"
   ]
  },
  {
   "cell_type": "markdown",
   "metadata": {},
   "source": [
    "Adjust the mapping to the new S1"
   ]
  },
  {
   "cell_type": "code",
   "execution_count": null,
   "metadata": {},
   "outputs": [],
   "source": [
    "# Get the first Sentinel-2 image's CRS and transform\n",
    "first_s2_image = sentinel2.first()\n",
    "s2_info = first_s2_image.getInfo()\n",
    "s2_crs = s2_info['bands'][1]['crs']  # CRS of the first band\n",
    "s2_transform = s2_info['bands'][1]['crs_transform']  # Transform of the first band\n",
    "\n",
    "s1_aligned_mosaic = s1_mosaic.reproject(crs=s2_crs, crsTransform=s2_transform)\n",
    "\n",
    "Map = geemap.Map()\n",
    "#Map.addLayer(first_s2_image, {'bands': ['B4', 'B3', 'B2'], 'min': 0, 'max': 3000}, 'Sentinel-2 Image')\n",
    "Map.addLayer(s1_aligned_mosaic, {'bands': ['VH'], 'min': -25, 'max': 0}, 'Mosaic Sentinel-1 Image')\n",
    "Map.centerObject(footprint_polygon, zoom=10)\n",
    "Map"
   ]
  },
  {
   "cell_type": "markdown",
   "metadata": {},
   "source": [
    "Download"
   ]
  },
  {
   "cell_type": "code",
   "execution_count": null,
   "metadata": {},
   "outputs": [],
   "source": [
    "taks = ee.batch.Export.image.toDrive(**{\n",
    "    'image': s1_aligned_mosaic,\n",
    "    'description': f'S1_Image_{tile_id}_{start_date}',\n",
    "    'folder': 'Sentinel-1',\n",
    "    'fileNamePrefix': f'S1_Image_{tile_id}_{start_date}',\n",
    "    'scale': 10,\n",
    "    'region': first_s2_image.geometry().bounds().getInfo()['coordinates'],\n",
    "    'crs': s2_crs,\n",
    "    'fileFormat': 'GeoTIFF',\n",
    "    'maxPixels': 1e12\n",
    "})\n",
    "\n",
    "taks.start()"
   ]
  },
  {
   "cell_type": "markdown",
   "metadata": {},
   "source": [
    "## S1 preprocessing"
   ]
  },
  {
   "cell_type": "markdown",
   "metadata": {},
   "source": [
    "Crop image to the region of interest"
   ]
  },
  {
   "cell_type": "code",
   "execution_count": null,
   "metadata": {},
   "outputs": [],
   "source": [
    "\n",
    "def find_valid_bounds(images, nodata_value=np.nan):\n",
    "    \"\"\"Find bounds within images that do not contain only nodata values for any band.\"\"\"\n",
    "    valid_rows = np.zeros(images.shape[1], dtype=bool)\n",
    "    valid_cols = np.zeros(images.shape[2], dtype=bool)\n",
    "    \n",
    "    for image in images:\n",
    "        if np.isnan(nodata_value):\n",
    "            band_valid_rows = ~np.isnan(image).all(axis=1)\n",
    "            band_valid_cols = ~np.isnan(image).all(axis=0)\n",
    "        else:\n",
    "            band_valid_rows = (image != nodata_value).any(axis=1)\n",
    "            band_valid_cols = (image != nodata_value).any(axis=0)\n",
    "        \n",
    "        valid_rows = valid_rows | band_valid_rows\n",
    "        valid_cols = valid_cols | band_valid_cols\n",
    "    \n",
    "    ymin, ymax = np.where(valid_rows)[0][[0, -1]]\n",
    "    xmin, xmax = np.where(valid_cols)[0][[0, -1]]\n",
    "\n",
    "    return xmin, xmax, ymin, ymax\n",
    "\n",
    "# Open the image\n",
    "base_path_s1 = ''\n",
    "image_s1 = \"S1_Image_36UYA_2019-07-01.tif\"\n",
    "\n",
    "with rasterio.open(os.path.join(base_path_s1, image_s1)) as src:\n",
    "    # Read all bands; assuming two bands for this example\n",
    "    img_s1 = src.read([1, 2])  # Adjust the index depending on your bands\n",
    "    img_s1_crs = src.crs\n",
    "    img_s1_transform = src.transform\n",
    "\n",
    "    plt.figure(figsize=(10, 8))\n",
    "    plt.imshow(img_s1[0], cmap='gray')  # Display the first band\n",
    "    plt.colorbar()\n",
    "    plt.title('Original Image Band 1')\n",
    "    plt.show()\n",
    "\n",
    "    # Assuming the NA values are NaNs or another specific value\n",
    "    nodata_value = src.nodata if src.nodata is not None else np.nan\n",
    "    \n",
    "    # Find the bounds of the valid data for all bands\n",
    "    xmin, xmax, ymin, ymax = find_valid_bounds(img_s1, nodata_value=nodata_value)\n",
    "    \n",
    "    # Crop all bands to these bounds\n",
    "    img_s1_cropped = img_s1[:, ymin:ymax+1, xmin:xmax+1]\n",
    "\n",
    "    # Plot the cropped first band\n",
    "    plt.figure(figsize=(10, 8))\n",
    "    plt.imshow(img_s1_cropped[0], cmap='gray')\n",
    "    plt.colorbar()\n",
    "    plt.title('Cropped to Valid Data Band 1')\n",
    "    plt.show()\n"
   ]
  },
  {
   "cell_type": "markdown",
   "metadata": {},
   "source": [
    "Fill NA values with the median of the image"
   ]
  },
  {
   "cell_type": "code",
   "execution_count": null,
   "metadata": {},
   "outputs": [],
   "source": [
    "img_s1_aligned = np.stack((img_s1_cropped[0][0:10980, 1:10981], img_s1_cropped[0][0:10980, 1:10981]))\n",
    "\n",
    "# Fill NaN values\n",
    "median_value = np.nanmedian(img_s1_aligned)\n",
    "\n",
    "print(np.isnan(img_s1_aligned).sum())\n",
    "# Replace NaN values with the median\n",
    "img_s1_aligned[np.isnan(img_s1_aligned)] = median_value\n",
    "\n",
    "# Print the updated array to check (optional)\n",
    "print(img_s1_aligned)"
   ]
  },
  {
   "cell_type": "markdown",
   "metadata": {},
   "source": [
    "S2 vs S1 visual comparison"
   ]
  },
  {
   "cell_type": "code",
   "execution_count": null,
   "metadata": {},
   "outputs": [],
   "source": [
    "base_path_s2 = ''\n",
    "image_s2 = \"S2A_Image_36UYA_20190701.tif\"\n",
    "with rasterio.open(os.path.join(base_path_s2, image_s2)) as file:\n",
    "\n",
    "    # createa window\n",
    "    window = rasterio.windows.Window(5000, 5000, 512, 512)\n",
    "\n",
    "    # read the image\n",
    "    img_s2 = file.read([1,2,3], window=window)\n",
    "    print(img_s2.shape)\n",
    "\n",
    "img_s1_window = img_s1_aligned[1][5000:5512, 5000:5512]\n",
    "\n",
    "\n",
    "max_s2 = np.percentile(img_s2, 98)\n",
    "min_s2 = np.percentile(img_s2, 2)\n",
    "img_s2 = (img_s2 - min_s2) / (max_s2 - min_s2)\n",
    "img_s2 = np.clip(img_s2, 0, 1)\n",
    "\n",
    "max_s1 = np.percentile(img_s1_window, 98)\n",
    "min_s1 = np.percentile(img_s1_window, 2)\n",
    "img_s1_window = (img_s1_window - min_s1) / (max_s1 - min_s1)\n",
    "img_s1_window = np.clip(img_s1_window, 0, 1)\n",
    "\n",
    "fig, ax = plt.subplots(1, 2, figsize=(12, 6))\n",
    "\n",
    "ax[0].imshow(img_s1_window, cmap='gray')\n",
    "ax[0].set_title('Sentinel-1 Image')\n",
    "\n",
    "ax[1].imshow(img_s2.transpose(1, 2, 0))\n",
    "ax[1].set_title('Sentinel-2 Image')\n",
    "\n",
    "plt.show()"
   ]
  },
  {
   "cell_type": "markdown",
   "metadata": {},
   "source": [
    "Save processed S1 image"
   ]
  },
  {
   "cell_type": "code",
   "execution_count": 46,
   "metadata": {},
   "outputs": [
    {
     "data": {
      "text/html": [
       "\n",
       "            <style>\n",
       "                .geemap-dark {\n",
       "                    --jp-widgets-color: white;\n",
       "                    --jp-widgets-label-color: white;\n",
       "                    --jp-ui-font-color1: white;\n",
       "                    --jp-layout-color2: #454545;\n",
       "                    background-color: #383838;\n",
       "                }\n",
       "\n",
       "                .geemap-dark .jupyter-button {\n",
       "                    --jp-layout-color3: #383838;\n",
       "                }\n",
       "\n",
       "                .geemap-colab {\n",
       "                    background-color: var(--colab-primary-surface-color, white);\n",
       "                }\n",
       "\n",
       "                .geemap-colab .jupyter-button {\n",
       "                    --jp-layout-color3: var(--colab-primary-surface-color, white);\n",
       "                }\n",
       "            </style>\n",
       "            "
      ],
      "text/plain": [
       "<IPython.core.display.HTML object>"
      ]
     },
     "metadata": {},
     "output_type": "display_data"
    },
    {
     "name": "stdout",
     "output_type": "stream",
     "text": [
      "File saved successfully.\n"
     ]
    }
   ],
   "source": [
    "save_path = ''\n",
    "output_path = os.path.join(save_path, 'S1_Image_36UYA_20190701.tif')\n",
    "\n",
    "if not os.path.exists(save_path):\n",
    "    os.makedirs(save_path)\n",
    "    print(f\"Directory created: {save_path}\")\n",
    "try:\n",
    "    with rasterio.open(\n",
    "        output_path, 'w',\n",
    "        driver='GTiff',\n",
    "        height=img_s1_aligned.shape[1],\n",
    "        width=img_s1_aligned.shape[2],\n",
    "        count=img_s1_aligned.shape[0],\n",
    "        dtype=str(img_s1_aligned.dtype),\n",
    "        crs=img_s1_crs,\n",
    "        transform=img_s1_transform\n",
    "    ) as dst:\n",
    "        for i in range(img_s1_aligned.shape[0]):\n",
    "            dst.write(img_s1_aligned[i], i+1)\n",
    "    print(\"File saved successfully.\")\n",
    "except Exception as e:\n",
    "    print(f\"An error occurred: {e}\")"
   ]
  }
 ],
 "metadata": {
  "kernelspec": {
   "display_name": "thesis",
   "language": "python",
   "name": "python3"
  },
  "language_info": {
   "codemirror_mode": {
    "name": "ipython",
    "version": 3
   },
   "file_extension": ".py",
   "mimetype": "text/x-python",
   "name": "python",
   "nbconvert_exporter": "python",
   "pygments_lexer": "ipython3",
   "version": "3.8.18"
  }
 },
 "nbformat": 4,
 "nbformat_minor": 2
}
