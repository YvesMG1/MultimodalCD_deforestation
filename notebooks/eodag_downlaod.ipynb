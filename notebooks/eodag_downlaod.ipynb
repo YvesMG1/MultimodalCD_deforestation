{
 "cells": [
  {
   "cell_type": "code",
   "execution_count": null,
   "metadata": {},
   "outputs": [],
   "source": [
    "### Import libraries ###\n",
    "import os\n",
    "import subprocess\n",
    "import tempfile\n",
    "import sys\n",
    "import matplotlib.pyplot as plt\n",
    "import matplotlib.image as mpimg\n",
    "from eodag import EODataAccessGateway\n",
    "from pathlib import Path\n",
    "\n",
    "\n",
    "### Set base path ###\n",
    "base_path = Path(os.getcwd())\n",
    "while not (base_path / '.git').exists():\n",
    "    base_path = base_path.parent\n",
    "print('Base path: ', base_path)\n",
    "\n",
    "\n",
    "# import custom functions\n",
    "sys.path.append(str(base_path / 'src/data/download_S2'))\n",
    "from utils import process_1Cto2A\n",
    "from create_merged_tiff import merged_tiff, slc_tiff\n"
   ]
  },
  {
   "cell_type": "markdown",
   "metadata": {},
   "source": [
    "## Download from EODAG"
   ]
  },
  {
   "cell_type": "markdown",
   "metadata": {},
   "source": [
    "Set-up login"
   ]
  },
  {
   "cell_type": "code",
   "execution_count": 3,
   "metadata": {},
   "outputs": [],
   "source": [
    "os.environ[\"EODAG__PEPS__AUTH__CREDENTIALS__USERNAME\"] = \"\"\n",
    "os.environ[\"EODAG__PEPS__AUTH__CREDENTIALS__PASSWORD\"] = \"\"\n",
    "os.environ[\"EODAG__COP_DATASPACE__AUTH__CREDENTIALS__USERNAME\"] = \"\"\n",
    "os.environ[\"EODAG__COP_DATASPACE__AUTH__CREDENTIALS__PASSWORD\"] = \"\"\n",
    "workspace = base_path / 'data/raw'\n",
    "workspace = '/scratch/yves/Thesis/Sentinel_data/downloads'\n",
    "os.environ[\"EODAG__PEPS__DOWNLOAD__OUTPUTS_PREFIX\"] = os.path.abspath(workspace)\n",
    "os.environ[\"EODAG__COP_DATASPACE__DOWNLOAD__OUTPUTS_PREFIX\"] = os.path.abspath(workspace)\n",
    "\n",
    "dag = EODataAccessGateway()\n",
    "dag.set_preferred_provider(\"cop_dataspace\")"
   ]
  },
  {
   "cell_type": "code",
   "execution_count": 4,
   "metadata": {},
   "outputs": [],
   "source": [
    "products_to_download = []"
   ]
  },
  {
   "cell_type": "markdown",
   "metadata": {},
   "source": [
    "Search for products"
   ]
  },
  {
   "cell_type": "code",
   "execution_count": 5,
   "metadata": {},
   "outputs": [
    {
     "name": "stdout",
     "output_type": "stream",
     "text": [
      "[EOProduct(id=S2A_MSIL1C_20160522T083602_N0202_R064_T36UYA_20160522T083605, provider=cop_dataspace), EOProduct(id=S2A_MSIL1C_20160522T083602_N0500_R064_T36UYA_20231025T025840, provider=cop_dataspace)]\n",
      "['ONLINE', 'ONLINE']\n"
     ]
    }
   ],
   "source": [
    "products, _ = dag.search(\n",
    "    productType=\"S2_MSI_L1C\",\n",
    "    start=\"2016-05-22\",\n",
    "    end=\"2016-05-23\",\n",
    "    tileIdentifier=\"36UYA\"\n",
    ")\n",
    "\n",
    "print(products)\n",
    "print([p.properties[\"storageStatus\"] for p in products])"
   ]
  },
  {
   "cell_type": "markdown",
   "metadata": {},
   "source": [
    "Visualize snapshots"
   ]
  },
  {
   "cell_type": "code",
   "execution_count": null,
   "metadata": {},
   "outputs": [],
   "source": [
    "fig = plt.figure(figsize=(10, 8))\n",
    "for i, product in enumerate(products, start=1):\n",
    "    # This line takes care of downloading the quicklook\n",
    "    quicklook_path = product.get_quicklook()\n",
    "\n",
    "    # Plot the quicklook\n",
    "    img = mpimg.imread(quicklook_path)\n",
    "    ax = fig.add_subplot(3, 4, i)\n",
    "    ax.set_title(i - 1)\n",
    "    plt.imshow(img)\n",
    "plt.tight_layout()"
   ]
  },
  {
   "cell_type": "markdown",
   "metadata": {},
   "source": [
    "Extend list to download"
   ]
  },
  {
   "cell_type": "code",
   "execution_count": 7,
   "metadata": {},
   "outputs": [
    {
     "name": "stdout",
     "output_type": "stream",
     "text": [
      "[EOProduct(id=S2A_MSIL1C_20160522T083602_N0500_R064_T36UYA_20231025T025840, provider=cop_dataspace)]\n"
     ]
    }
   ],
   "source": [
    "products_to_download.append(products[1])\n",
    "print(products_to_download)"
   ]
  },
  {
   "cell_type": "markdown",
   "metadata": {},
   "source": [
    "Download products"
   ]
  },
  {
   "cell_type": "code",
   "execution_count": 8,
   "metadata": {},
   "outputs": [
    {
     "data": {
      "application/vnd.jupyter.widget-view+json": {
       "model_id": "1a381dc588a74a83894f35ed73633b9d",
       "version_major": 2,
       "version_minor": 0
      },
      "text/plain": [
       "Downloaded products:   0%|          | 0/1 [00:00<?, ?product/s]"
      ]
     },
     "metadata": {},
     "output_type": "display_data"
    },
    {
     "data": {
      "application/vnd.jupyter.widget-view+json": {
       "model_id": "e6ea654e28bc49fc87aeed65da2270d7",
       "version_major": 2,
       "version_minor": 0
      },
      "text/plain": [
       "0.00B [00:00, ?B/s]"
      ]
     },
     "metadata": {},
     "output_type": "display_data"
    }
   ],
   "source": [
    "paths = dag.download_all(products_to_download)"
   ]
  },
  {
   "cell_type": "markdown",
   "metadata": {},
   "source": [
    "## 1C-2A processing"
   ]
  },
  {
   "cell_type": "code",
   "execution_count": null,
   "metadata": {},
   "outputs": [],
   "source": [
    "# Run Sen2Cor\n",
    "sen2cor_path = os.path.join('/scratch/yves/Thesis', 'Sen2Cor-02.11.00-Linux64', 'bin', 'L2A_Process')\n",
    "output_dir = os.path.dirname(str(base_path)) + '/Sentinel_data/processed'\n",
    "process_1Cto2A(paths, output_dir, sen2cor_path)"
   ]
  },
  {
   "cell_type": "markdown",
   "metadata": {},
   "source": [
    "## SAFE to GeoTIFF conversion"
   ]
  },
  {
   "cell_type": "code",
   "execution_count": null,
   "metadata": {},
   "outputs": [],
   "source": [
    "path = os.path.dirname(str(base_path)) + '/Sentinel_data/processed'\n",
    "folders = ['S2A_MSIL2A_20160731T084022_N9999_R064_T36UYA_20240419T101242.SAFE', \n",
    "           'S2A_MSIL2A_20160830T083602_N9999_R064_T36UYA_20240418T195727.SAFE'] \n",
    "data_folders = [path + '/' + folder for folder in folders] \n",
    "save_path = str(base_path) + '/data/UKR/raw/full/sentinels'\n",
    "bands_10m = ['B04', 'B03', 'B02', 'B08']\n",
    "bands_20m = ['B8A', 'B11', 'B12']\n",
    "\n",
    "\n",
    "for data_folder in data_folders:\n",
    "    data_folder = os.path.join(path, data_folder)\n",
    "    merged_tiff(data_folder, save_path, bands_10m, bands_20m)"
   ]
  },
  {
   "cell_type": "markdown",
   "metadata": {},
   "source": [
    "## SLC to GeoTIFF conversion"
   ]
  },
  {
   "cell_type": "code",
   "execution_count": null,
   "metadata": {},
   "outputs": [],
   "source": [
    "path = os.path.dirname(str(base_path)) + '/Sentinel_data/processed'\n",
    "folders = ['S2A_MSIL2A_20160731T084022_N9999_R064_T36UYA_20240419T101242.SAFE', \n",
    "           'S2A_MSIL2A_20160830T083602_N9999_R064_T36UYA_20240418T195727.SAFE']\n",
    "data_folders = [path + '/' + folder for folder in folders] \n",
    "save_path = str(base_path) + '/data/UKR/raw/full/clouds'\n",
    "\n",
    "\n",
    "for data_folder in data_folders:\n",
    "    data_folder = os.path.join(path, data_folder)\n",
    "    slc_tiff(data_folder, save_path, resample_to=10)"
   ]
  }
 ],
 "metadata": {
  "kernelspec": {
   "display_name": "valdata",
   "language": "python",
   "name": "python3"
  },
  "language_info": {
   "codemirror_mode": {
    "name": "ipython",
    "version": 3
   },
   "file_extension": ".py",
   "mimetype": "text/x-python",
   "name": "python",
   "nbconvert_exporter": "python",
   "pygments_lexer": "ipython3",
   "version": "3.8.18"
  }
 },
 "nbformat": 4,
 "nbformat_minor": 2
}
